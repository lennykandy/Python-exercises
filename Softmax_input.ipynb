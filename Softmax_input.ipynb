{
  "nbformat": 4,
  "nbformat_minor": 0,
  "metadata": {
    "colab": {
      "name": "ML_HSE.ipynb",
      "provenance": [],
      "authorship_tag": "ABX9TyMLPn+Ju8tH9Y/W8BWnn/iW",
      "include_colab_link": true
    },
    "kernelspec": {
      "name": "python3",
      "display_name": "Python 3"
    },
    "language_info": {
      "name": "python"
    }
  },
  "cells": [
    {
      "cell_type": "markdown",
      "metadata": {
        "id": "view-in-github",
        "colab_type": "text"
      },
      "source": [
        "<a href=\"https://colab.research.google.com/github/lennykandy/Python-exercises/blob/main/Softmax_input.ipynb\" target=\"_parent\"><img src=\"https://colab.research.google.com/assets/colab-badge.svg\" alt=\"Open In Colab\"/></a>"
      ]
    },
    {
      "cell_type": "markdown",
      "source": [
        "Softmax performs a transformation to turn arbitrary real values into probabilities. \n",
        "\n",
        "softmax(xi) = e^xi / sum e^xi"
      ],
      "metadata": {
        "id": "J-3HqKp4cRgs"
      }
    },
    {
      "cell_type": "code",
      "execution_count": null,
      "metadata": {
        "colab": {
          "base_uri": "https://localhost:8080/"
        },
        "id": "Q5uhwVVobRS_",
        "outputId": "7f07f2ed-976d-484a-ea48-a72cdcdb2efc"
      },
      "outputs": [
        {
          "output_type": "stream",
          "name": "stdout",
          "text": [
            "Enter the list of numbers you wish to apply softmax transformation on : 1 -2 0.5\n",
            "[ 1.  -2.   0.5]\n",
            "[0.6037489  0.03005889 0.36619222]\n"
          ]
        }
      ],
      "source": [
        "# Accepts a list of numbers and tranforms them into probabilites\n",
        "import numpy as np\n",
        "\n",
        "def softmax(x) :\n",
        "  return np.exp(x)/sum(np.exp(x))\n",
        "\n",
        "lst = [float(item) for item in input(\"Enter the list of numbers you wish to apply softmax transformation on : \").split()]\n",
        "x = np.array(lst)\n",
        "print(x)\n",
        "print(softmax(x))\n"
      ]
    }
  ]
}