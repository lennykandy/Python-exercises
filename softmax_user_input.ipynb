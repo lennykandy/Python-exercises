{
  "nbformat": 4,
  "nbformat_minor": 0,
  "metadata": {
    "colab": {
      "name": "ML_HSE.ipynb",
      "provenance": [],
      "authorship_tag": "ABX9TyMLPn+Ju8tH9Y/W8BWnn/iW"
    },
    "kernelspec": {
      "name": "python3",
      "display_name": "Python 3"
    },
    "language_info": {
      "name": "python"
    }
  },
  "cells": [
    {
      "cell_type": "markdown",
      "source": [
        "Softmax performs a transformation to turn arbitrary real values into probabilities. \n",
        "\n",
        "softmax(xi) = e^xi / sum e^xi"
      ],
      "metadata": {
        "id": "J-3HqKp4cRgs"
      }
    },
    {
      "cell_type": "code",
      "execution_count": null,
      "metadata": {
        "id": "Q5uhwVVobRS_"
      },
      "outputs": [],
      "source": [
        "# Accepts a list of numbers and tranforms them into probabilites\n",
        "import numpy as np\n",
        "\n",
        "def softmax(x) :\n",
        "  return np.exp(x)/sum(np.exp(x))\n",
        "\n",
        "lst = [float(item) for item in input(\"Enter the list of numbers you wish to apply softmax transformation on : \").split()]\n",
        "x = np.array(lst)\n",
        "print(x)\n",
        "print(softmax(x))\n"
      ]
    }
  ]
}